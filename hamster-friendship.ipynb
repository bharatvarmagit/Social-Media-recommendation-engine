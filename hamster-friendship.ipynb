{
 "cells": [
  {
   "cell_type": "code",
   "execution_count": 5,
   "metadata": {},
   "outputs": [],
   "source": [
    "from collections import defaultdict\n",
    "adj_list =defaultdict(list)\n",
    "file=open(\"hamster-friendship.txt\",\"r\")\n",
    "lines=file.readlines()\n",
    "for line in lines:\n",
    "    word=line.split()\n",
    "    if word[1] not in adj_list[word[0]]:\n",
    "        adj_list[word[0]].append(word[1])\n",
    "    if word[0] not in adj_list[word[1]]:\n",
    "        adj_list[word[1]].append(word[0])\n",
    "file.close()\n",
    "#adj_list    "
   ]
  },
  {
   "cell_type": "code",
   "execution_count": 6,
   "metadata": {},
   "outputs": [],
   "source": [
    "import operator\n",
    "rank_list={key:len(value) for key,value in adj_list.items()}\n",
    "influencers=dict(sorted(rank_list.items(),key=operator.itemgetter(1),reverse=True)[:100])\n",
    "#influencers"
   ]
  },
  {
   "cell_type": "code",
   "execution_count": 25,
   "metadata": {},
   "outputs": [
    {
     "name": "stdout",
     "output_type": "stream",
     "text": [
      "23\n"
     ]
    }
   ],
   "source": [
    " # Method to retrieve connected components \n",
    "    # in an undirected graph \n",
    "def connectedComponents(A_list): \n",
    "    visited = set()\n",
    "    cc = []  \n",
    "    for v in A_list.keys(): \n",
    "        if v not in visited: \n",
    "            temp = [] \n",
    "            adj_v=[i for i in A_list[v]]\n",
    "            cc.append(DFSUtil(temp, v, visited,adj_v)) \n",
    "    return cc \n",
    "\n",
    "def DFSUtil(temp, v, visited,adj_v): \n",
    "  \n",
    "        # Mark the current vertex as visited \n",
    "    visited.add(v) \n",
    "  \n",
    "        # Store the vertex to list \n",
    "    temp.append(v) \n",
    "    \n",
    "  \n",
    "        # Repeat for all vertices adjacent \n",
    "        # to this vertex v \n",
    "    for i in adj_v: \n",
    "        if i not in visited: \n",
    "            l=[i for i in adj_list[i]]\n",
    "                  \n",
    "                # Update the list \n",
    "            temp = DFSUtil(temp, i, visited,l) \n",
    "    return temp \n",
    "comps=connectedComponents(adj_list)\n"
   ]
  },
  {
   "cell_type": "code",
   "execution_count": 20,
   "metadata": {},
   "outputs": [
    {
     "data": {
      "text/plain": [
       "[0, 1, 2]"
      ]
     },
     "execution_count": 20,
     "metadata": {},
     "output_type": "execute_result"
    }
   ],
   "source": []
  },
  {
   "cell_type": "code",
   "execution_count": null,
   "metadata": {
    "collapsed": true
   },
   "outputs": [],
   "source": []
  }
 ],
 "metadata": {
  "kernelspec": {
   "display_name": "Python 3",
   "language": "python",
   "name": "python3"
  },
  "language_info": {
   "codemirror_mode": {
    "name": "ipython",
    "version": 3
   },
   "file_extension": ".py",
   "mimetype": "text/x-python",
   "name": "python",
   "nbconvert_exporter": "python",
   "pygments_lexer": "ipython3",
   "version": "3.7.4"
  }
 },
 "nbformat": 4,
 "nbformat_minor": 2
}
