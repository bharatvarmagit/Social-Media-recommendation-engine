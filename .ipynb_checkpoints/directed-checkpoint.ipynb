{
 "cells": [
  {
   "cell_type": "code",
   "execution_count": 19,
   "metadata": {},
   "outputs": [
    {
     "name": "stdout",
     "output_type": "stream",
     "text": [
      "1800\n"
     ]
    }
   ],
   "source": [
    "from collections import defaultdict\n",
    "adj_list =defaultdict(list)\n",
    "file=open(\"hamster-friendship.txt\",\"r\")\n",
    "lines=file.readlines()\n",
    "for line in lines:\n",
    "    word=line.split()\n",
    "    if word[1] not in adj_list[word[0]]:\n",
    "        adj_list[word[0]].append(word[1])\n",
    "file.close()\n",
    "print(len(adj_list))\n"
   ]
  },
  {
   "cell_type": "code",
   "execution_count": 24,
   "metadata": {},
   "outputs": [
    {
     "name": "stdout",
     "output_type": "stream",
     "text": [
      "1858\n"
     ]
    }
   ],
   "source": [
    "from collections import defaultdict\n",
    "temp=[]\n",
    "#find connected components\n",
    "def printSCCs(a_list): \n",
    "          \n",
    "    stack = [] \n",
    "    # Mark all the vertices as not visited (For first DFS) \n",
    "    visited =set() \n",
    "    # Fill vertices in stack according to their finishing \n",
    "    # times \n",
    "    for i in a_list.keys(): \n",
    "        if i not in visited: \n",
    "            fillOrder(i, visited, stack) \n",
    "  \n",
    "    # Create a reversed graph \n",
    "    gr = getTranspose(a_list) \n",
    "           \n",
    "         # Mark all the vertices as not visited (For second DFS) \n",
    "    visited =set()\n",
    "  \n",
    "         # Now process all vertices in order defined by Stack \n",
    "    while stack: \n",
    "        i = stack.pop() \n",
    "        if i not in visited: \n",
    "            DFSUtil(gr,i, visited) \n",
    "        \n",
    "    print(len(temp))\n",
    "def fillOrder(v,visited, stack): \n",
    "    # Mark the current node as visited  \n",
    "    visited.add(v)\n",
    "    adj_v=[i for i in adj_list[v]]\n",
    "    #Recur for all the vertices adjacent to this vertex \n",
    "    for i in adj_v: \n",
    "        if i not in visited: \n",
    "            fillOrder(i, visited, stack) \n",
    "    stack = stack.append(v) \n",
    "    \n",
    "def DFSUtil(a_list,v,visited): \n",
    "    # Mark the current node as visited and print it \n",
    "    visited.add(v)\n",
    "    \n",
    "    adj_v=[i for i in a_list[v]]\n",
    "    temp.append(v)\n",
    "    \n",
    "    \n",
    "    #Recur for all the vertices adjacent to this vertex \n",
    "    for i in adj_v: \n",
    "        if i not in visited:\n",
    "            print(\" next component\")\n",
    "            DFSUtil(adj_list,i,visited)\n",
    "            \n",
    "\n",
    "def getTranspose(a_list): \n",
    "    adj_list_t =defaultdict(list) \n",
    "  \n",
    "    # Recur for all the vertices adjacent to this vertex \n",
    "    for key in a_list.keys(): \n",
    "        adj_v=[k for k in a_list[key]]\n",
    "        for j in adj_v:\n",
    "            adj_list_t[j].append(key)\n",
    "             \n",
    "    return adj_list_t\n",
    "        \n",
    "printSCCs(adj_list)      \n",
    "        "
   ]
  },
  {
   "cell_type": "code",
   "execution_count": null,
   "metadata": {},
   "outputs": [],
   "source": []
  }
 ],
 "metadata": {
  "kernelspec": {
   "display_name": "Python 3",
   "language": "python",
   "name": "python3"
  },
  "language_info": {
   "codemirror_mode": {
    "name": "ipython",
    "version": 3
   },
   "file_extension": ".py",
   "mimetype": "text/x-python",
   "name": "python",
   "nbconvert_exporter": "python",
   "pygments_lexer": "ipython3",
   "version": "3.7.4"
  }
 },
 "nbformat": 4,
 "nbformat_minor": 2
}
